{
 "cells": [
  {
   "cell_type": "markdown",
   "id": "abroad-transport",
   "metadata": {},
   "source": [
    "#  Modelo\n",
    "\n",
    "autor: [Joaquin Menendez](https://www.linkedin.com/in/joaquin-menendez/) <br>\n",
    "email: [joaquin14@gmail.com](mailto:joaquin14@gmail.com)"
   ]
  },
  {
   "cell_type": "markdown",
   "id": "nutritional-kruger",
   "metadata": {},
   "source": [
    "Dado que en la exploración de datos nos centramos en los Celulares y Smartphones como nuestro producto de interés, vamos a continuar por el mismo camino y vamos a intentar crear un modelo que estima la cantidad de `sold_quantity` de una publicación."
   ]
  },
  {
   "cell_type": "code",
   "execution_count": 404,
   "id": "prospective-bridal",
   "metadata": {},
   "outputs": [],
   "source": [
    "import pandas as pd\n",
    "import numpy as np\n",
    "import pickle\n",
    "import seaborn as sns\n",
    "from IPython.display import display\n",
    "import matplotlib.pyplot as plt\n",
    "import ppscore\n",
    "from sklearn.preprocessing import OneHotEncoder, OrdinalEncoder, StandardScaler\n",
    "from sklearn.model_selection import cross_val_score\n",
    "from sklearn.ensemble import RandomForestRegressor\n",
    "from sklearn.model_selection import train_test_split,cross_validate, GridSearchCV\n",
    "from sklearn.compose import make_column_transformer\n",
    "from sklearn.pipeline import make_pipeline\n",
    "from sklearn.metrics import mean_squared_error\n",
    "from sklearn.linear_model import LinearRegression"
   ]
  },
  {
   "cell_type": "code",
   "execution_count": 5,
   "id": "fifteen-liverpool",
   "metadata": {},
   "outputs": [],
   "source": [
    "from melitools import get_category_country_list, basic_df, calculate_discount_metrics"
   ]
  },
  {
   "cell_type": "markdown",
   "id": "stopped-courtesy",
   "metadata": {},
   "source": [
    "**ATENCION!!** <br>\n",
    "El siguiente modelo se realizó  en base a datos tomados el dia 04/03/2020. Es probable que si usted corre la siguiente línea de código, los resultados puedan diferir ligeramente. Si desea ahorrarse el tiempo y cargar una request guardada por favor seleccione la dicha opción en la siguiente cell."
   ]
  },
  {
   "cell_type": "code",
   "execution_count": 268,
   "id": "literary-source",
   "metadata": {},
   "outputs": [],
   "source": [
    "cargar = ''\n",
    "while cargar == '':\n",
    "    cargar = str(input('Si desea cargar el dataset ingrese la letra \"y\": '))\n",
    "    if cargar == \"y\":\n",
    "        print('Cargando consulta antigua...')\n",
    "        with open('data/celus.pkl','rb') as file:\n",
    "            celus_arg= pickle.load(file)\n",
    "    elif cargar != '':\n",
    "        print('Realizando nueva consulta...')\n",
    "        celus_arg = celus_arg = get_category_country_list('MLA', \"1055\", limit=20)"
   ]
  },
  {
   "cell_type": "code",
   "execution_count": 269,
   "id": "arranged-fluid",
   "metadata": {},
   "outputs": [
    {
     "data": {
      "text/html": [
       "<div>\n",
       "<style scoped>\n",
       "    .dataframe tbody tr th:only-of-type {\n",
       "        vertical-align: middle;\n",
       "    }\n",
       "\n",
       "    .dataframe tbody tr th {\n",
       "        vertical-align: top;\n",
       "    }\n",
       "\n",
       "    .dataframe thead th {\n",
       "        text-align: right;\n",
       "    }\n",
       "</style>\n",
       "<table border=\"1\" class=\"dataframe\">\n",
       "  <thead>\n",
       "    <tr style=\"text-align: right;\">\n",
       "      <th></th>\n",
       "      <th>site_id</th>\n",
       "      <th>price</th>\n",
       "      <th>currency_id</th>\n",
       "      <th>available_quantity</th>\n",
       "      <th>sold_quantity</th>\n",
       "      <th>buying_mode</th>\n",
       "      <th>listing_type_id</th>\n",
       "      <th>condition</th>\n",
       "      <th>accepts_mercadopago</th>\n",
       "      <th>original_price</th>\n",
       "      <th>seller_seller_reputation_level_id</th>\n",
       "      <th>shipping_free_shipping</th>\n",
       "      <th>address_state_name</th>\n",
       "      <th>BRAND</th>\n",
       "      <th>MODEL</th>\n",
       "      <th>price_USD</th>\n",
       "      <th>discount</th>\n",
       "      <th>descuento_precio</th>\n",
       "      <th>descuento_USD</th>\n",
       "    </tr>\n",
       "  </thead>\n",
       "  <tbody>\n",
       "    <tr>\n",
       "      <th>0</th>\n",
       "      <td>MLA</td>\n",
       "      <td>69999.0</td>\n",
       "      <td>ARS</td>\n",
       "      <td>67</td>\n",
       "      <td>75</td>\n",
       "      <td>buy_it_now</td>\n",
       "      <td>gold_pro</td>\n",
       "      <td>new</td>\n",
       "      <td>True</td>\n",
       "      <td>79999</td>\n",
       "      <td>5_green</td>\n",
       "      <td>True</td>\n",
       "      <td>Buenos Aires</td>\n",
       "      <td>LG</td>\n",
       "      <td>Velvet</td>\n",
       "      <td>774.489715</td>\n",
       "      <td>1</td>\n",
       "      <td>10000.0</td>\n",
       "      <td>110.642968</td>\n",
       "    </tr>\n",
       "    <tr>\n",
       "      <th>1</th>\n",
       "      <td>MLA</td>\n",
       "      <td>16999.0</td>\n",
       "      <td>ARS</td>\n",
       "      <td>7553</td>\n",
       "      <td>1272</td>\n",
       "      <td>buy_it_now</td>\n",
       "      <td>gold_pro</td>\n",
       "      <td>new</td>\n",
       "      <td>True</td>\n",
       "      <td>None</td>\n",
       "      <td>5_green</td>\n",
       "      <td>True</td>\n",
       "      <td>Buenos Aires</td>\n",
       "      <td>Nokia</td>\n",
       "      <td>23 M</td>\n",
       "      <td>188.081982</td>\n",
       "      <td>0</td>\n",
       "      <td>0.0</td>\n",
       "      <td>0.000000</td>\n",
       "    </tr>\n",
       "    <tr>\n",
       "      <th>2</th>\n",
       "      <td>MLA</td>\n",
       "      <td>21999.0</td>\n",
       "      <td>ARS</td>\n",
       "      <td>478</td>\n",
       "      <td>7071</td>\n",
       "      <td>buy_it_now</td>\n",
       "      <td>gold_pro</td>\n",
       "      <td>new</td>\n",
       "      <td>True</td>\n",
       "      <td>None</td>\n",
       "      <td>5_green</td>\n",
       "      <td>True</td>\n",
       "      <td>Capital Federal</td>\n",
       "      <td>LG</td>\n",
       "      <td>K50</td>\n",
       "      <td>243.403466</td>\n",
       "      <td>0</td>\n",
       "      <td>0.0</td>\n",
       "      <td>0.000000</td>\n",
       "    </tr>\n",
       "    <tr>\n",
       "      <th>3</th>\n",
       "      <td>MLA</td>\n",
       "      <td>29999.0</td>\n",
       "      <td>ARS</td>\n",
       "      <td>69</td>\n",
       "      <td>7119</td>\n",
       "      <td>buy_it_now</td>\n",
       "      <td>gold_special</td>\n",
       "      <td>new</td>\n",
       "      <td>True</td>\n",
       "      <td>None</td>\n",
       "      <td>5_green</td>\n",
       "      <td>True</td>\n",
       "      <td>Buenos Aires</td>\n",
       "      <td>Motorola</td>\n",
       "      <td>One Fusion</td>\n",
       "      <td>331.917841</td>\n",
       "      <td>0</td>\n",
       "      <td>0.0</td>\n",
       "      <td>0.000000</td>\n",
       "    </tr>\n",
       "    <tr>\n",
       "      <th>4</th>\n",
       "      <td>MLA</td>\n",
       "      <td>22499.0</td>\n",
       "      <td>ARS</td>\n",
       "      <td>71</td>\n",
       "      <td>564</td>\n",
       "      <td>buy_it_now</td>\n",
       "      <td>gold_pro</td>\n",
       "      <td>new</td>\n",
       "      <td>True</td>\n",
       "      <td>None</td>\n",
       "      <td>5_green</td>\n",
       "      <td>True</td>\n",
       "      <td>Capital Federal</td>\n",
       "      <td>LG</td>\n",
       "      <td>K50S</td>\n",
       "      <td>248.935615</td>\n",
       "      <td>0</td>\n",
       "      <td>0.0</td>\n",
       "      <td>0.000000</td>\n",
       "    </tr>\n",
       "    <tr>\n",
       "      <th>...</th>\n",
       "      <td>...</td>\n",
       "      <td>...</td>\n",
       "      <td>...</td>\n",
       "      <td>...</td>\n",
       "      <td>...</td>\n",
       "      <td>...</td>\n",
       "      <td>...</td>\n",
       "      <td>...</td>\n",
       "      <td>...</td>\n",
       "      <td>...</td>\n",
       "      <td>...</td>\n",
       "      <td>...</td>\n",
       "      <td>...</td>\n",
       "      <td>...</td>\n",
       "      <td>...</td>\n",
       "      <td>...</td>\n",
       "      <td>...</td>\n",
       "      <td>...</td>\n",
       "      <td>...</td>\n",
       "    </tr>\n",
       "    <tr>\n",
       "      <th>989</th>\n",
       "      <td>MLA</td>\n",
       "      <td>44800.0</td>\n",
       "      <td>ARS</td>\n",
       "      <td>1</td>\n",
       "      <td>0</td>\n",
       "      <td>buy_it_now</td>\n",
       "      <td>gold_pro</td>\n",
       "      <td>new</td>\n",
       "      <td>True</td>\n",
       "      <td>None</td>\n",
       "      <td>None</td>\n",
       "      <td>True</td>\n",
       "      <td>Santa Fe</td>\n",
       "      <td>Xiaomi</td>\n",
       "      <td>Note 8</td>\n",
       "      <td>495.680499</td>\n",
       "      <td>0</td>\n",
       "      <td>0.0</td>\n",
       "      <td>0.000000</td>\n",
       "    </tr>\n",
       "    <tr>\n",
       "      <th>990</th>\n",
       "      <td>MLA</td>\n",
       "      <td>59990.0</td>\n",
       "      <td>ARS</td>\n",
       "      <td>1</td>\n",
       "      <td>1</td>\n",
       "      <td>buy_it_now</td>\n",
       "      <td>gold_pro</td>\n",
       "      <td>new</td>\n",
       "      <td>True</td>\n",
       "      <td>None</td>\n",
       "      <td>5_green</td>\n",
       "      <td>True</td>\n",
       "      <td>Capital Federal</td>\n",
       "      <td>Xiaomi</td>\n",
       "      <td>Note 9S</td>\n",
       "      <td>663.747168</td>\n",
       "      <td>0</td>\n",
       "      <td>0.0</td>\n",
       "      <td>0.000000</td>\n",
       "    </tr>\n",
       "    <tr>\n",
       "      <th>991</th>\n",
       "      <td>MLA</td>\n",
       "      <td>120000.0</td>\n",
       "      <td>ARS</td>\n",
       "      <td>1</td>\n",
       "      <td>0</td>\n",
       "      <td>buy_it_now</td>\n",
       "      <td>gold_pro</td>\n",
       "      <td>used</td>\n",
       "      <td>True</td>\n",
       "      <td>None</td>\n",
       "      <td>5_green</td>\n",
       "      <td>False</td>\n",
       "      <td>Capital Federal</td>\n",
       "      <td>Google</td>\n",
       "      <td>Pixel 4</td>\n",
       "      <td>1327.715621</td>\n",
       "      <td>0</td>\n",
       "      <td>0.0</td>\n",
       "      <td>0.000000</td>\n",
       "    </tr>\n",
       "    <tr>\n",
       "      <th>992</th>\n",
       "      <td>MLA</td>\n",
       "      <td>40276.0</td>\n",
       "      <td>ARS</td>\n",
       "      <td>1</td>\n",
       "      <td>5</td>\n",
       "      <td>buy_it_now</td>\n",
       "      <td>gold_special</td>\n",
       "      <td>new</td>\n",
       "      <td>True</td>\n",
       "      <td>None</td>\n",
       "      <td>5_green</td>\n",
       "      <td>True</td>\n",
       "      <td>Buenos Aires</td>\n",
       "      <td>Samsung</td>\n",
       "      <td>A31</td>\n",
       "      <td>445.625620</td>\n",
       "      <td>0</td>\n",
       "      <td>0.0</td>\n",
       "      <td>0.000000</td>\n",
       "    </tr>\n",
       "    <tr>\n",
       "      <th>993</th>\n",
       "      <td>MLA</td>\n",
       "      <td>17000.0</td>\n",
       "      <td>ARS</td>\n",
       "      <td>1</td>\n",
       "      <td>1</td>\n",
       "      <td>buy_it_now</td>\n",
       "      <td>gold_pro</td>\n",
       "      <td>used</td>\n",
       "      <td>True</td>\n",
       "      <td>None</td>\n",
       "      <td>5_green</td>\n",
       "      <td>False</td>\n",
       "      <td>Entre Ríos</td>\n",
       "      <td>BlackBerry</td>\n",
       "      <td>Z10</td>\n",
       "      <td>188.093046</td>\n",
       "      <td>0</td>\n",
       "      <td>0.0</td>\n",
       "      <td>0.000000</td>\n",
       "    </tr>\n",
       "  </tbody>\n",
       "</table>\n",
       "<p>994 rows × 19 columns</p>\n",
       "</div>"
      ],
      "text/plain": [
       "    site_id     price currency_id  available_quantity  sold_quantity  \\\n",
       "0       MLA   69999.0         ARS                  67             75   \n",
       "1       MLA   16999.0         ARS                7553           1272   \n",
       "2       MLA   21999.0         ARS                 478           7071   \n",
       "3       MLA   29999.0         ARS                  69           7119   \n",
       "4       MLA   22499.0         ARS                  71            564   \n",
       "..      ...       ...         ...                 ...            ...   \n",
       "989     MLA   44800.0         ARS                   1              0   \n",
       "990     MLA   59990.0         ARS                   1              1   \n",
       "991     MLA  120000.0         ARS                   1              0   \n",
       "992     MLA   40276.0         ARS                   1              5   \n",
       "993     MLA   17000.0         ARS                   1              1   \n",
       "\n",
       "    buying_mode listing_type_id condition  accepts_mercadopago original_price  \\\n",
       "0    buy_it_now        gold_pro       new                 True          79999   \n",
       "1    buy_it_now        gold_pro       new                 True           None   \n",
       "2    buy_it_now        gold_pro       new                 True           None   \n",
       "3    buy_it_now    gold_special       new                 True           None   \n",
       "4    buy_it_now        gold_pro       new                 True           None   \n",
       "..          ...             ...       ...                  ...            ...   \n",
       "989  buy_it_now        gold_pro       new                 True           None   \n",
       "990  buy_it_now        gold_pro       new                 True           None   \n",
       "991  buy_it_now        gold_pro      used                 True           None   \n",
       "992  buy_it_now    gold_special       new                 True           None   \n",
       "993  buy_it_now        gold_pro      used                 True           None   \n",
       "\n",
       "    seller_seller_reputation_level_id  shipping_free_shipping  \\\n",
       "0                             5_green                    True   \n",
       "1                             5_green                    True   \n",
       "2                             5_green                    True   \n",
       "3                             5_green                    True   \n",
       "4                             5_green                    True   \n",
       "..                                ...                     ...   \n",
       "989                              None                    True   \n",
       "990                           5_green                    True   \n",
       "991                           5_green                   False   \n",
       "992                           5_green                    True   \n",
       "993                           5_green                   False   \n",
       "\n",
       "    address_state_name       BRAND       MODEL    price_USD  discount  \\\n",
       "0         Buenos Aires          LG      Velvet   774.489715         1   \n",
       "1         Buenos Aires       Nokia        23 M   188.081982         0   \n",
       "2      Capital Federal          LG         K50   243.403466         0   \n",
       "3         Buenos Aires    Motorola  One Fusion   331.917841         0   \n",
       "4      Capital Federal          LG        K50S   248.935615         0   \n",
       "..                 ...         ...         ...          ...       ...   \n",
       "989           Santa Fe      Xiaomi      Note 8   495.680499         0   \n",
       "990    Capital Federal      Xiaomi     Note 9S   663.747168         0   \n",
       "991    Capital Federal      Google     Pixel 4  1327.715621         0   \n",
       "992       Buenos Aires     Samsung         A31   445.625620         0   \n",
       "993         Entre Ríos  BlackBerry         Z10   188.093046         0   \n",
       "\n",
       "     descuento_precio  descuento_USD  \n",
       "0             10000.0     110.642968  \n",
       "1                 0.0       0.000000  \n",
       "2                 0.0       0.000000  \n",
       "3                 0.0       0.000000  \n",
       "4                 0.0       0.000000  \n",
       "..                ...            ...  \n",
       "989               0.0       0.000000  \n",
       "990               0.0       0.000000  \n",
       "991               0.0       0.000000  \n",
       "992               0.0       0.000000  \n",
       "993               0.0       0.000000  \n",
       "\n",
       "[994 rows x 19 columns]"
      ]
     },
     "execution_count": 269,
     "metadata": {},
     "output_type": "execute_result"
    }
   ],
   "source": [
    "df = basic_df(celus_arg)\n",
    "df = calculate_discount_metrics(df)\n",
    "df"
   ]
  },
  {
   "cell_type": "markdown",
   "id": "different-wilderness",
   "metadata": {},
   "source": [
    "Vamos a chequear nuestro variable target o objetivo"
   ]
  },
  {
   "cell_type": "code",
   "execution_count": 402,
   "id": "sudden-dover",
   "metadata": {},
   "outputs": [
    {
     "data": {
      "image/png": "[encoded data removed]",
      "text/plain": [
       "<Figure size 360x360 with 1 Axes>"
      ]
     },
     "metadata": {
      "needs_background": "light"
     },
     "output_type": "display_data"
    }
   ],
   "source": [
    "ax = sns.displot(df.sold_quantity, kind='kde')\n",
    "ax.ax.set_title('Distribucion de \"sold quantity\"')\n",
    "plt.show()"
   ]
  },
  {
   "cell_type": "markdown",
   "id": "mighty-certificate",
   "metadata": {},
   "source": [
    "De por si vemos que la cantidad de ventas muy grandes corresponde a unos pocas publicaciones."
   ]
  },
  {
   "cell_type": "code",
   "execution_count": 270,
   "id": "pacific-functionality",
   "metadata": {},
   "outputs": [
    {
     "data": {
      "text/html": [
       "<div>\n",
       "<style scoped>\n",
       "    .dataframe tbody tr th:only-of-type {\n",
       "        vertical-align: middle;\n",
       "    }\n",
       "\n",
       "    .dataframe tbody tr th {\n",
       "        vertical-align: top;\n",
       "    }\n",
       "\n",
       "    .dataframe thead th {\n",
       "        text-align: right;\n",
       "    }\n",
       "</style>\n",
       "<table border=\"1\" class=\"dataframe\">\n",
       "  <thead>\n",
       "    <tr style=\"text-align: right;\">\n",
       "      <th></th>\n",
       "      <th>site_id</th>\n",
       "      <th>currency_id</th>\n",
       "      <th>buying_mode</th>\n",
       "      <th>listing_type_id</th>\n",
       "      <th>condition</th>\n",
       "      <th>accepts_mercadopago</th>\n",
       "      <th>original_price</th>\n",
       "      <th>seller_seller_reputation_level_id</th>\n",
       "      <th>shipping_free_shipping</th>\n",
       "      <th>address_state_name</th>\n",
       "      <th>BRAND</th>\n",
       "      <th>MODEL</th>\n",
       "    </tr>\n",
       "  </thead>\n",
       "  <tbody>\n",
       "    <tr>\n",
       "      <th>count</th>\n",
       "      <td>994</td>\n",
       "      <td>994</td>\n",
       "      <td>994</td>\n",
       "      <td>994</td>\n",
       "      <td>994</td>\n",
       "      <td>994</td>\n",
       "      <td>85</td>\n",
       "      <td>938</td>\n",
       "      <td>994</td>\n",
       "      <td>994</td>\n",
       "      <td>993</td>\n",
       "      <td>992</td>\n",
       "    </tr>\n",
       "    <tr>\n",
       "      <th>unique</th>\n",
       "      <td>1</td>\n",
       "      <td>1</td>\n",
       "      <td>1</td>\n",
       "      <td>2</td>\n",
       "      <td>2</td>\n",
       "      <td>1</td>\n",
       "      <td>49</td>\n",
       "      <td>4</td>\n",
       "      <td>2</td>\n",
       "      <td>13</td>\n",
       "      <td>61</td>\n",
       "      <td>365</td>\n",
       "    </tr>\n",
       "    <tr>\n",
       "      <th>top</th>\n",
       "      <td>MLA</td>\n",
       "      <td>ARS</td>\n",
       "      <td>buy_it_now</td>\n",
       "      <td>gold_special</td>\n",
       "      <td>new</td>\n",
       "      <td>True</td>\n",
       "      <td>34999</td>\n",
       "      <td>5_green</td>\n",
       "      <td>True</td>\n",
       "      <td>Capital Federal</td>\n",
       "      <td>Samsung</td>\n",
       "      <td>A31</td>\n",
       "    </tr>\n",
       "    <tr>\n",
       "      <th>freq</th>\n",
       "      <td>994</td>\n",
       "      <td>994</td>\n",
       "      <td>994</td>\n",
       "      <td>627</td>\n",
       "      <td>875</td>\n",
       "      <td>994</td>\n",
       "      <td>5</td>\n",
       "      <td>880</td>\n",
       "      <td>892</td>\n",
       "      <td>638</td>\n",
       "      <td>310</td>\n",
       "      <td>22</td>\n",
       "    </tr>\n",
       "  </tbody>\n",
       "</table>\n",
       "</div>"
      ],
      "text/plain": [
       "       site_id currency_id buying_mode listing_type_id condition  \\\n",
       "count      994         994         994             994       994   \n",
       "unique       1           1           1               2         2   \n",
       "top        MLA         ARS  buy_it_now    gold_special       new   \n",
       "freq       994         994         994             627       875   \n",
       "\n",
       "       accepts_mercadopago  original_price seller_seller_reputation_level_id  \\\n",
       "count                  994              85                               938   \n",
       "unique                   1              49                                 4   \n",
       "top                   True           34999                           5_green   \n",
       "freq                   994               5                               880   \n",
       "\n",
       "       shipping_free_shipping address_state_name    BRAND MODEL  \n",
       "count                     994                994      993   992  \n",
       "unique                      2                 13       61   365  \n",
       "top                      True    Capital Federal  Samsung   A31  \n",
       "freq                      892                638      310    22  "
      ]
     },
     "execution_count": 270,
     "metadata": {},
     "output_type": "execute_result"
    }
   ],
   "source": [
    "df.describe(exclude=[np.number])"
   ]
  },
  {
   "cell_type": "code",
   "execution_count": 271,
   "id": "metallic-abortion",
   "metadata": {},
   "outputs": [
    {
     "data": {
      "text/plain": [
       "5_green          880\n",
       "NaN               56\n",
       "3_yellow          46\n",
       "2_orange           9\n",
       "4_light_green      3\n",
       "Name: seller_seller_reputation_level_id, dtype: int64"
      ]
     },
     "metadata": {},
     "output_type": "display_data"
    },
    {
     "data": {
      "text/plain": [
       "new     875\n",
       "used    119\n",
       "Name: condition, dtype: int64"
      ]
     },
     "metadata": {},
     "output_type": "display_data"
    },
    {
     "data": {
      "text/plain": [
       "gold_special    627\n",
       "gold_pro        367\n",
       "Name: listing_type_id, dtype: int64"
      ]
     },
     "execution_count": 271,
     "metadata": {},
     "output_type": "execute_result"
    }
   ],
   "source": [
    "# Exploramos algunas variables categoricas que desconozco los posibles valores\n",
    "display(df.seller_seller_reputation_level_id.value_counts(dropna=False))\n",
    "display(df.condition.value_counts(dropna=False))\n",
    "df.listing_type_id.value_counts(dropna=False)"
   ]
  },
  {
   "cell_type": "code",
   "execution_count": 272,
   "id": "facial-partnership",
   "metadata": {},
   "outputs": [
    {
     "data": {
      "text/plain": [
       "original_price                       91.448692\n",
       "seller_seller_reputation_level_id     5.633803\n",
       "MODEL                                 0.201207\n",
       "BRAND                                 0.100604\n",
       "condition                             0.000000\n",
       "price                                 0.000000\n",
       "currency_id                           0.000000\n",
       "available_quantity                    0.000000\n",
       "sold_quantity                         0.000000\n",
       "buying_mode                           0.000000\n",
       "listing_type_id                       0.000000\n",
       "descuento_USD                         0.000000\n",
       "accepts_mercadopago                   0.000000\n",
       "descuento_precio                      0.000000\n",
       "shipping_free_shipping                0.000000\n",
       "address_state_name                    0.000000\n",
       "price_USD                             0.000000\n",
       "discount                              0.000000\n",
       "site_id                               0.000000\n",
       "dtype: float64"
      ]
     },
     "execution_count": 272,
     "metadata": {},
     "output_type": "execute_result"
    }
   ],
   "source": [
    "# Chequeamos la proporción de missings\n",
    "(df.isna().sum() / df.shape[0] * 100).sort_values(ascending=False)"
   ]
  },
  {
   "cell_type": "markdown",
   "id": "preliminary-today",
   "metadata": {},
   "source": [
    "Dado que hay valores missingpara `seller_reputation`, seguramente porque el usario tenga pocas ventas, voy a asignarle un valor entre el 3  y el 4, porque para mi alguien sin info da mas confianza que alguien en amarillo (esto es subjetivo, lo se, pero vamos a ir con este supuesto)."
   ]
  },
  {
   "cell_type": "code",
   "execution_count": 273,
   "id": "capital-breathing",
   "metadata": {},
   "outputs": [],
   "source": [
    "df.seller_seller_reputation_level_id.fillna('3.5_sin_info', inplace=True)"
   ]
  },
  {
   "cell_type": "markdown",
   "id": "black-stuff",
   "metadata": {},
   "source": [
    "Como vemos todos los productos estan expresados en pesos (`buying_mode`),  son todos del tel tipo `buy_it_now` y todos aceptan mercado pago. Por ende vamos a quitar estas variables de nuestro dataset. \n",
    "\n",
    "Al mismo tiempo vamos a optar por no usar `original_price` dado que solo tenemos valores para menos del 9% de los datos y correlaciona con la variable `discount` la cual es binaria. "
   ]
  },
  {
   "cell_type": "code",
   "execution_count": 274,
   "id": "sophisticated-puppy",
   "metadata": {},
   "outputs": [],
   "source": [
    "to_remove = ['site_id','currency_id', 'buying_mode', 'accepts_mercadopago', 'MODEL','original_price']\n",
    "df.drop(columns=to_remove, inplace=True)"
   ]
  },
  {
   "cell_type": "markdown",
   "id": "modular-gothic",
   "metadata": {},
   "source": [
    "Dado que hay demasiados modelos diferentes (365) y abundantes marcas (61) vamos a realizar una transformación en esta última variable."
   ]
  },
  {
   "cell_type": "code",
   "execution_count": 275,
   "id": "exterior-framework",
   "metadata": {},
   "outputs": [
    {
     "data": {
      "text/plain": [
       "Samsung     31.218530\n",
       "Motorola    12.688822\n",
       "Apple        8.660624\n",
       "LG           8.157100\n",
       "Xiaomi       5.941591\n",
       "Alcatel      4.833837\n",
       "BLU          4.632427\n",
       "Nokia        2.920443\n",
       "Kodak        2.416918\n",
       "TCL          2.215509\n",
       "Name: BRAND, dtype: float64"
      ]
     },
     "metadata": {},
     "output_type": "display_data"
    },
    {
     "name": "stdout",
     "output_type": "stream",
     "text": [
      "Top 4.8%: ['Samsung', 'Motorola', 'Apple', 'LG', 'Xiaomi', 'Alcatel']\n"
     ]
    }
   ],
   "source": [
    "display(df.BRAND.value_counts(normalize=True)[:10] * 100)\n",
    "top_5p = df.BRAND.value_counts(normalize=True)[df.BRAND.value_counts(normalize=True) > 0.048].index\n",
    "print(f'Top 4.8%: {list(top_5p)}')"
   ]
  },
  {
   "cell_type": "markdown",
   "id": "joint-engine",
   "metadata": {},
   "source": [
    "Vamos a crear una nueva variable con los modelos que al menos tienen un 5% de casos. Sino pasarán a la categoría otros"
   ]
  },
  {
   "cell_type": "code",
   "execution_count": 276,
   "id": "encouraging-manchester",
   "metadata": {},
   "outputs": [],
   "source": [
    "df['brand_top'] = df.BRAND.apply(lambda x: x if x in top_5p else 'Otro')"
   ]
  },
  {
   "cell_type": "markdown",
   "id": "acquired-attendance",
   "metadata": {},
   "source": [
    "De la misma manera tenemos 13 states o provincias de las cuales Capital Federal y Buenos Aires condensan el 90 de las ventas.<br>\n",
    "Vamos a transformar esta variable."
   ]
  },
  {
   "cell_type": "code",
   "execution_count": 277,
   "id": "rising-genetics",
   "metadata": {},
   "outputs": [
    {
     "data": {
      "text/plain": [
       "Capital Federal        64.185111\n",
       "Buenos Aires           25.050302\n",
       "Misiones                3.722334\n",
       "Santa Fe                3.219316\n",
       "Córdoba                 1.710262\n",
       "Tucumán                 0.804829\n",
       "Entre Ríos              0.503018\n",
       "Jujuy                   0.201207\n",
       "La Pampa                0.201207\n",
       "San Juan                0.100604\n",
       "Salta                   0.100604\n",
       "Río Negro               0.100604\n",
       "Santiago del Estero     0.100604\n",
       "Name: address_state_name, dtype: float64"
      ]
     },
     "metadata": {},
     "output_type": "display_data"
    }
   ],
   "source": [
    "display(df.address_state_name.value_counts(normalize = True) * 100)\n",
    "df['big_hub'] = df.address_state_name.apply(lambda x: x if x in ['Capital Federal', 'Buenos Aires'] else 'Otro')"
   ]
  },
  {
   "cell_type": "markdown",
   "id": "alternative-klein",
   "metadata": {},
   "source": [
    "Exploramos los outliers de precios bajos(`price`), `available_quantity` y `sold_quantity`"
   ]
  },
  {
   "cell_type": "code",
   "execution_count": 278,
   "id": "roman-oxide",
   "metadata": {},
   "outputs": [
    {
     "data": {
      "text/html": [
       "<div>\n",
       "<style scoped>\n",
       "    .dataframe tbody tr th:only-of-type {\n",
       "        vertical-align: middle;\n",
       "    }\n",
       "\n",
       "    .dataframe tbody tr th {\n",
       "        vertical-align: top;\n",
       "    }\n",
       "\n",
       "    .dataframe thead th {\n",
       "        text-align: right;\n",
       "    }\n",
       "</style>\n",
       "<table border=\"1\" class=\"dataframe\">\n",
       "  <thead>\n",
       "    <tr style=\"text-align: right;\">\n",
       "      <th></th>\n",
       "      <th>price</th>\n",
       "      <th>available_quantity</th>\n",
       "      <th>sold_quantity</th>\n",
       "      <th>price_USD</th>\n",
       "      <th>discount</th>\n",
       "      <th>descuento_precio</th>\n",
       "      <th>descuento_USD</th>\n",
       "    </tr>\n",
       "  </thead>\n",
       "  <tbody>\n",
       "    <tr>\n",
       "      <th>count</th>\n",
       "      <td>994.000000</td>\n",
       "      <td>994.000000</td>\n",
       "      <td>994.000000</td>\n",
       "      <td>994.000000</td>\n",
       "      <td>994.000000</td>\n",
       "      <td>994.000000</td>\n",
       "      <td>994.000000</td>\n",
       "    </tr>\n",
       "    <tr>\n",
       "      <th>mean</th>\n",
       "      <td>38162.568873</td>\n",
       "      <td>64.069416</td>\n",
       "      <td>104.230382</td>\n",
       "      <td>422.241990</td>\n",
       "      <td>0.085513</td>\n",
       "      <td>387.161851</td>\n",
       "      <td>4.283674</td>\n",
       "    </tr>\n",
       "    <tr>\n",
       "      <th>std</th>\n",
       "      <td>49577.176027</td>\n",
       "      <td>343.188779</td>\n",
       "      <td>664.581558</td>\n",
       "      <td>548.536592</td>\n",
       "      <td>0.279784</td>\n",
       "      <td>1581.842060</td>\n",
       "      <td>17.501970</td>\n",
       "    </tr>\n",
       "    <tr>\n",
       "      <th>min</th>\n",
       "      <td>100.000000</td>\n",
       "      <td>1.000000</td>\n",
       "      <td>0.000000</td>\n",
       "      <td>1.106430</td>\n",
       "      <td>0.000000</td>\n",
       "      <td>0.000000</td>\n",
       "      <td>0.000000</td>\n",
       "    </tr>\n",
       "    <tr>\n",
       "      <th>25%</th>\n",
       "      <td>14299.000000</td>\n",
       "      <td>1.000000</td>\n",
       "      <td>2.000000</td>\n",
       "      <td>158.208381</td>\n",
       "      <td>0.000000</td>\n",
       "      <td>0.000000</td>\n",
       "      <td>0.000000</td>\n",
       "    </tr>\n",
       "    <tr>\n",
       "      <th>50%</th>\n",
       "      <td>22900.000000</td>\n",
       "      <td>1.000000</td>\n",
       "      <td>5.000000</td>\n",
       "      <td>253.372398</td>\n",
       "      <td>0.000000</td>\n",
       "      <td>0.000000</td>\n",
       "      <td>0.000000</td>\n",
       "    </tr>\n",
       "    <tr>\n",
       "      <th>75%</th>\n",
       "      <td>39924.000000</td>\n",
       "      <td>1.000000</td>\n",
       "      <td>25.000000</td>\n",
       "      <td>441.730987</td>\n",
       "      <td>0.000000</td>\n",
       "      <td>0.000000</td>\n",
       "      <td>0.000000</td>\n",
       "    </tr>\n",
       "    <tr>\n",
       "      <th>max</th>\n",
       "      <td>450000.000000</td>\n",
       "      <td>7553.000000</td>\n",
       "      <td>9075.000000</td>\n",
       "      <td>4978.933579</td>\n",
       "      <td>1.000000</td>\n",
       "      <td>16000.000000</td>\n",
       "      <td>177.028749</td>\n",
       "    </tr>\n",
       "  </tbody>\n",
       "</table>\n",
       "</div>"
      ],
      "text/plain": [
       "               price  available_quantity  sold_quantity    price_USD  \\\n",
       "count     994.000000          994.000000     994.000000   994.000000   \n",
       "mean    38162.568873           64.069416     104.230382   422.241990   \n",
       "std     49577.176027          343.188779     664.581558   548.536592   \n",
       "min       100.000000            1.000000       0.000000     1.106430   \n",
       "25%     14299.000000            1.000000       2.000000   158.208381   \n",
       "50%     22900.000000            1.000000       5.000000   253.372398   \n",
       "75%     39924.000000            1.000000      25.000000   441.730987   \n",
       "max    450000.000000         7553.000000    9075.000000  4978.933579   \n",
       "\n",
       "         discount  descuento_precio  descuento_USD  \n",
       "count  994.000000        994.000000     994.000000  \n",
       "mean     0.085513        387.161851       4.283674  \n",
       "std      0.279784       1581.842060      17.501970  \n",
       "min      0.000000          0.000000       0.000000  \n",
       "25%      0.000000          0.000000       0.000000  \n",
       "50%      0.000000          0.000000       0.000000  \n",
       "75%      0.000000          0.000000       0.000000  \n",
       "max      1.000000      16000.000000     177.028749  "
      ]
     },
     "execution_count": 278,
     "metadata": {},
     "output_type": "execute_result"
    }
   ],
   "source": [
    "df.describe()"
   ]
  },
  {
   "cell_type": "code",
   "execution_count": 279,
   "id": "solid-project",
   "metadata": {},
   "outputs": [
    {
     "data": {
      "text/plain": [
       "(984, 15)"
      ]
     },
     "metadata": {},
     "output_type": "display_data"
    },
    {
     "data": {
      "text/html": [
       "<div>\n",
       "<style scoped>\n",
       "    .dataframe tbody tr th:only-of-type {\n",
       "        vertical-align: middle;\n",
       "    }\n",
       "\n",
       "    .dataframe tbody tr th {\n",
       "        vertical-align: top;\n",
       "    }\n",
       "\n",
       "    .dataframe thead th {\n",
       "        text-align: right;\n",
       "    }\n",
       "</style>\n",
       "<table border=\"1\" class=\"dataframe\">\n",
       "  <thead>\n",
       "    <tr style=\"text-align: right;\">\n",
       "      <th></th>\n",
       "      <th>price</th>\n",
       "      <th>available_quantity</th>\n",
       "      <th>sold_quantity</th>\n",
       "      <th>price_USD</th>\n",
       "      <th>discount</th>\n",
       "      <th>descuento_precio</th>\n",
       "      <th>descuento_USD</th>\n",
       "    </tr>\n",
       "  </thead>\n",
       "  <tbody>\n",
       "    <tr>\n",
       "      <th>count</th>\n",
       "      <td>984.000000</td>\n",
       "      <td>984.000000</td>\n",
       "      <td>984.000000</td>\n",
       "      <td>984.000000</td>\n",
       "      <td>984.000000</td>\n",
       "      <td>984.000000</td>\n",
       "      <td>984.000000</td>\n",
       "    </tr>\n",
       "    <tr>\n",
       "      <th>mean</th>\n",
       "      <td>38540.849045</td>\n",
       "      <td>64.609756</td>\n",
       "      <td>105.231707</td>\n",
       "      <td>426.427394</td>\n",
       "      <td>0.086382</td>\n",
       "      <td>391.096423</td>\n",
       "      <td>4.327207</td>\n",
       "    </tr>\n",
       "    <tr>\n",
       "      <th>std</th>\n",
       "      <td>49685.596179</td>\n",
       "      <td>344.874858</td>\n",
       "      <td>667.877025</td>\n",
       "      <td>549.736185</td>\n",
       "      <td>0.281070</td>\n",
       "      <td>1589.383188</td>\n",
       "      <td>17.585407</td>\n",
       "    </tr>\n",
       "    <tr>\n",
       "      <th>min</th>\n",
       "      <td>2000.000000</td>\n",
       "      <td>1.000000</td>\n",
       "      <td>0.000000</td>\n",
       "      <td>22.128594</td>\n",
       "      <td>0.000000</td>\n",
       "      <td>0.000000</td>\n",
       "      <td>0.000000</td>\n",
       "    </tr>\n",
       "    <tr>\n",
       "      <th>25%</th>\n",
       "      <td>14499.000000</td>\n",
       "      <td>1.000000</td>\n",
       "      <td>2.000000</td>\n",
       "      <td>160.421240</td>\n",
       "      <td>0.000000</td>\n",
       "      <td>0.000000</td>\n",
       "      <td>0.000000</td>\n",
       "    </tr>\n",
       "    <tr>\n",
       "      <th>50%</th>\n",
       "      <td>22999.000000</td>\n",
       "      <td>1.000000</td>\n",
       "      <td>5.000000</td>\n",
       "      <td>254.467763</td>\n",
       "      <td>0.000000</td>\n",
       "      <td>0.000000</td>\n",
       "      <td>0.000000</td>\n",
       "    </tr>\n",
       "    <tr>\n",
       "      <th>75%</th>\n",
       "      <td>39999.000000</td>\n",
       "      <td>1.000000</td>\n",
       "      <td>25.000000</td>\n",
       "      <td>442.560809</td>\n",
       "      <td>0.000000</td>\n",
       "      <td>0.000000</td>\n",
       "      <td>0.000000</td>\n",
       "    </tr>\n",
       "    <tr>\n",
       "      <th>max</th>\n",
       "      <td>450000.000000</td>\n",
       "      <td>7553.000000</td>\n",
       "      <td>9075.000000</td>\n",
       "      <td>4978.933579</td>\n",
       "      <td>1.000000</td>\n",
       "      <td>16000.000000</td>\n",
       "      <td>177.028749</td>\n",
       "    </tr>\n",
       "  </tbody>\n",
       "</table>\n",
       "</div>"
      ],
      "text/plain": [
       "               price  available_quantity  sold_quantity    price_USD  \\\n",
       "count     984.000000          984.000000     984.000000   984.000000   \n",
       "mean    38540.849045           64.609756     105.231707   426.427394   \n",
       "std     49685.596179          344.874858     667.877025   549.736185   \n",
       "min      2000.000000            1.000000       0.000000    22.128594   \n",
       "25%     14499.000000            1.000000       2.000000   160.421240   \n",
       "50%     22999.000000            1.000000       5.000000   254.467763   \n",
       "75%     39999.000000            1.000000      25.000000   442.560809   \n",
       "max    450000.000000         7553.000000    9075.000000  4978.933579   \n",
       "\n",
       "         discount  descuento_precio  descuento_USD  \n",
       "count  984.000000        984.000000     984.000000  \n",
       "mean     0.086382        391.096423       4.327207  \n",
       "std      0.281070       1589.383188      17.585407  \n",
       "min      0.000000          0.000000       0.000000  \n",
       "25%      0.000000          0.000000       0.000000  \n",
       "50%      0.000000          0.000000       0.000000  \n",
       "75%      0.000000          0.000000       0.000000  \n",
       "max      1.000000      16000.000000     177.028749  "
      ]
     },
     "execution_count": 279,
     "metadata": {},
     "output_type": "execute_result"
    }
   ],
   "source": [
    "# Eliminamos celulares menores a 20 USD\n",
    "df = df[df.price_USD >= 20]\n",
    "display(df.shape)\n",
    "df.describe()"
   ]
  },
  {
   "cell_type": "markdown",
   "id": "working-august",
   "metadata": {},
   "source": [
    "Removiendo los outliers bajos, removimos solo 10 casos. Podemor tolerar esto (casi el 1% de nuestros datos originales).<br>\n",
    "Para el caso de  `available_quantity` y `sold_quantity` tenemos una std muy amplio, pero si bien los valos son altos no parecen ser son anomalos. Proseguiremos sin hacer ningún cambio en este caso.\n"
   ]
  },
  {
   "cell_type": "markdown",
   "id": "adverse-shirt",
   "metadata": {},
   "source": [
    "Vamos a eliminar la variable `price_USD` dado que no hay ningún valor expresado en dolares. Y vamos a eliminar las variables a las cuales les aplicamos alguna transformación."
   ]
  },
  {
   "cell_type": "code",
   "execution_count": 280,
   "id": "environmental-jackson",
   "metadata": {},
   "outputs": [],
   "source": [
    "df = df.drop(columns=['address_state_name', 'BRAND', 'price_USD'])"
   ]
  },
  {
   "cell_type": "markdown",
   "id": "shaped-device",
   "metadata": {},
   "source": [
    "## Visualizando de relaciones entre variables"
   ]
  },
  {
   "cell_type": "code",
   "execution_count": 281,
   "id": "enclosed-program",
   "metadata": {},
   "outputs": [
    {
     "data": {
      "image/png": "[encoded data removed]",
      "text/plain": [
       "<Figure size 1008x576 with 2 Axes>"
      ]
     },
     "metadata": {
      "needs_background": "light"
     },
     "output_type": "display_data"
    }
   ],
   "source": [
    "# Correlaciones\n",
    "corr = df.corr()\n",
    "mask=np.triu(np.ones(corr.shape)).astype(np.bool)\n",
    "plt.figure(figsize = (14,8))\n",
    "ax = sns.heatmap(corr, \n",
    "            xticklabels=corr.columns.values,\n",
    "            yticklabels=corr.columns.values,\n",
    "            cmap='coolwarm',\n",
    "            annot = True,\n",
    "            mask = mask\n",
    "           )\n"
   ]
  },
  {
   "cell_type": "code",
   "execution_count": 283,
   "id": "cutting-glossary",
   "metadata": {},
   "outputs": [
    {
     "data": {
      "text/html": [
       "<div>\n",
       "<style scoped>\n",
       "    .dataframe tbody tr th:only-of-type {\n",
       "        vertical-align: middle;\n",
       "    }\n",
       "\n",
       "    .dataframe tbody tr th {\n",
       "        vertical-align: top;\n",
       "    }\n",
       "\n",
       "    .dataframe thead th {\n",
       "        text-align: right;\n",
       "    }\n",
       "</style>\n",
       "<table border=\"1\" class=\"dataframe\">\n",
       "  <thead>\n",
       "    <tr style=\"text-align: right;\">\n",
       "      <th></th>\n",
       "      <th>x</th>\n",
       "      <th>y</th>\n",
       "      <th>ppscore</th>\n",
       "      <th>case</th>\n",
       "      <th>is_valid_score</th>\n",
       "      <th>metric</th>\n",
       "      <th>baseline_score</th>\n",
       "      <th>model_score</th>\n",
       "      <th>model</th>\n",
       "    </tr>\n",
       "  </thead>\n",
       "  <tbody>\n",
       "    <tr>\n",
       "      <th>1</th>\n",
       "      <td>available_quantity</td>\n",
       "      <td>sold_quantity</td>\n",
       "      <td>0</td>\n",
       "      <td>regression</td>\n",
       "      <td>True</td>\n",
       "      <td>mean absolute error</td>\n",
       "      <td>102.912602</td>\n",
       "      <td>145.768508</td>\n",
       "      <td>DecisionTreeRegressor()</td>\n",
       "    </tr>\n",
       "    <tr>\n",
       "      <th>9</th>\n",
       "      <td>brand_top</td>\n",
       "      <td>sold_quantity</td>\n",
       "      <td>0</td>\n",
       "      <td>regression</td>\n",
       "      <td>True</td>\n",
       "      <td>mean absolute error</td>\n",
       "      <td>102.912602</td>\n",
       "      <td>161.776857</td>\n",
       "      <td>DecisionTreeRegressor()</td>\n",
       "    </tr>\n",
       "    <tr>\n",
       "      <th>3</th>\n",
       "      <td>condition</td>\n",
       "      <td>sold_quantity</td>\n",
       "      <td>0</td>\n",
       "      <td>regression</td>\n",
       "      <td>True</td>\n",
       "      <td>mean absolute error</td>\n",
       "      <td>102.912602</td>\n",
       "      <td>162.085392</td>\n",
       "      <td>DecisionTreeRegressor()</td>\n",
       "    </tr>\n",
       "    <tr>\n",
       "      <th>2</th>\n",
       "      <td>listing_type_id</td>\n",
       "      <td>sold_quantity</td>\n",
       "      <td>0</td>\n",
       "      <td>regression</td>\n",
       "      <td>True</td>\n",
       "      <td>mean absolute error</td>\n",
       "      <td>102.912602</td>\n",
       "      <td>162.672082</td>\n",
       "      <td>DecisionTreeRegressor()</td>\n",
       "    </tr>\n",
       "    <tr>\n",
       "      <th>10</th>\n",
       "      <td>big_hub</td>\n",
       "      <td>sold_quantity</td>\n",
       "      <td>0</td>\n",
       "      <td>regression</td>\n",
       "      <td>True</td>\n",
       "      <td>mean absolute error</td>\n",
       "      <td>102.912602</td>\n",
       "      <td>163.619381</td>\n",
       "      <td>DecisionTreeRegressor()</td>\n",
       "    </tr>\n",
       "    <tr>\n",
       "      <th>4</th>\n",
       "      <td>seller_seller_reputation_level_id</td>\n",
       "      <td>sold_quantity</td>\n",
       "      <td>0</td>\n",
       "      <td>regression</td>\n",
       "      <td>True</td>\n",
       "      <td>mean absolute error</td>\n",
       "      <td>102.912602</td>\n",
       "      <td>164.467320</td>\n",
       "      <td>DecisionTreeRegressor()</td>\n",
       "    </tr>\n",
       "    <tr>\n",
       "      <th>5</th>\n",
       "      <td>shipping_free_shipping</td>\n",
       "      <td>sold_quantity</td>\n",
       "      <td>0</td>\n",
       "      <td>regression</td>\n",
       "      <td>True</td>\n",
       "      <td>mean absolute error</td>\n",
       "      <td>102.912602</td>\n",
       "      <td>165.055483</td>\n",
       "      <td>DecisionTreeRegressor()</td>\n",
       "    </tr>\n",
       "    <tr>\n",
       "      <th>6</th>\n",
       "      <td>discount</td>\n",
       "      <td>sold_quantity</td>\n",
       "      <td>0</td>\n",
       "      <td>regression</td>\n",
       "      <td>True</td>\n",
       "      <td>mean absolute error</td>\n",
       "      <td>102.912602</td>\n",
       "      <td>165.720772</td>\n",
       "      <td>DecisionTreeRegressor()</td>\n",
       "    </tr>\n",
       "    <tr>\n",
       "      <th>8</th>\n",
       "      <td>descuento_USD</td>\n",
       "      <td>sold_quantity</td>\n",
       "      <td>0</td>\n",
       "      <td>regression</td>\n",
       "      <td>True</td>\n",
       "      <td>mean absolute error</td>\n",
       "      <td>102.912602</td>\n",
       "      <td>165.723385</td>\n",
       "      <td>DecisionTreeRegressor()</td>\n",
       "    </tr>\n",
       "    <tr>\n",
       "      <th>7</th>\n",
       "      <td>descuento_precio</td>\n",
       "      <td>sold_quantity</td>\n",
       "      <td>0</td>\n",
       "      <td>regression</td>\n",
       "      <td>True</td>\n",
       "      <td>mean absolute error</td>\n",
       "      <td>102.912602</td>\n",
       "      <td>166.042152</td>\n",
       "      <td>DecisionTreeRegressor()</td>\n",
       "    </tr>\n",
       "    <tr>\n",
       "      <th>0</th>\n",
       "      <td>price</td>\n",
       "      <td>sold_quantity</td>\n",
       "      <td>0</td>\n",
       "      <td>regression</td>\n",
       "      <td>True</td>\n",
       "      <td>mean absolute error</td>\n",
       "      <td>102.912602</td>\n",
       "      <td>175.184365</td>\n",
       "      <td>DecisionTreeRegressor()</td>\n",
       "    </tr>\n",
       "  </tbody>\n",
       "</table>\n",
       "</div>"
      ],
      "text/plain": [
       "                                    x              y  ppscore        case  \\\n",
       "1                  available_quantity  sold_quantity        0  regression   \n",
       "9                           brand_top  sold_quantity        0  regression   \n",
       "3                           condition  sold_quantity        0  regression   \n",
       "2                     listing_type_id  sold_quantity        0  regression   \n",
       "10                            big_hub  sold_quantity        0  regression   \n",
       "4   seller_seller_reputation_level_id  sold_quantity        0  regression   \n",
       "5              shipping_free_shipping  sold_quantity        0  regression   \n",
       "6                            discount  sold_quantity        0  regression   \n",
       "8                       descuento_USD  sold_quantity        0  regression   \n",
       "7                    descuento_precio  sold_quantity        0  regression   \n",
       "0                               price  sold_quantity        0  regression   \n",
       "\n",
       "    is_valid_score               metric  baseline_score  model_score  \\\n",
       "1             True  mean absolute error      102.912602   145.768508   \n",
       "9             True  mean absolute error      102.912602   161.776857   \n",
       "3             True  mean absolute error      102.912602   162.085392   \n",
       "2             True  mean absolute error      102.912602   162.672082   \n",
       "10            True  mean absolute error      102.912602   163.619381   \n",
       "4             True  mean absolute error      102.912602   164.467320   \n",
       "5             True  mean absolute error      102.912602   165.055483   \n",
       "6             True  mean absolute error      102.912602   165.720772   \n",
       "8             True  mean absolute error      102.912602   165.723385   \n",
       "7             True  mean absolute error      102.912602   166.042152   \n",
       "0             True  mean absolute error      102.912602   175.184365   \n",
       "\n",
       "                      model  \n",
       "1   DecisionTreeRegressor()  \n",
       "9   DecisionTreeRegressor()  \n",
       "3   DecisionTreeRegressor()  \n",
       "2   DecisionTreeRegressor()  \n",
       "10  DecisionTreeRegressor()  \n",
       "4   DecisionTreeRegressor()  \n",
       "5   DecisionTreeRegressor()  \n",
       "6   DecisionTreeRegressor()  \n",
       "8   DecisionTreeRegressor()  \n",
       "7   DecisionTreeRegressor()  \n",
       "0   DecisionTreeRegressor()  "
      ]
     },
     "execution_count": 283,
     "metadata": {},
     "output_type": "execute_result"
    }
   ],
   "source": [
    "# Vamos a evaluar utilizando el predictive power score\n",
    "ppscore.predictors(df, \"sold_quantity\").sort_values('model_score')"
   ]
  },
  {
   "cell_type": "markdown",
   "id": "fixed-source",
   "metadata": {},
   "source": [
    "No parece ser que las variables seleccionadas nos sean de mucha utilidad. La correlacion es muy baja entre las varaibles y el target. Asimismo el predictive power score es muy bajo. Sin embargo no podemos descartar que haya interacciones no lineales entre las variables. \n",
    "\n",
    "Vamos a continuar."
   ]
  },
  {
   "cell_type": "markdown",
   "id": "democratic-prize",
   "metadata": {},
   "source": [
    "## Preprocesamiento"
   ]
  },
  {
   "cell_type": "code",
   "execution_count": 378,
   "id": "regional-parish",
   "metadata": {},
   "outputs": [],
   "source": [
    "# Vamos a transformar a nuestras variables categoricas.\n",
    "column_trans = make_column_transformer(\n",
    "    (OneHotEncoder(),\n",
    "     ['big_hub','brand_top','listing_type_id']),\n",
    "    (OrdinalEncoder(\n",
    "        categories=[['gold_pro','gold_special'],\n",
    "                    ['used','new'],\n",
    "                    ['2_orange','3_yellow','3.5_sin_info','4_light_green','5_green']\n",
    "                   ]),\n",
    "     ['listing_type_id','condition','seller_seller_reputation_level_id']),\n",
    "    \n",
    "\n",
    "\n",
    "    # Asumo que new y used son los unicos estados, por ende binario y ordinal. Idem con listing_type\n",
    "    # Se que en producción y podría tener otros listing (creo). Pero vamos a proceder asi para este challenge\n",
    "    remainder='passthrough'\n",
    ")\n",
    "y = df.sold_quantity\n",
    "X = df.drop(columns = 'sold_quantity')\n",
    "column_trans.fit(X)\n",
    "x_train, x_test, y_train, y_test = train_test_split(X,y,random_state = 10)  #  Divido en train test, pero bien \n",
    "# podría usar un CV con todo el dataset y sugerir ese modelo para el futuro."
   ]
  },
  {
   "cell_type": "markdown",
   "id": "intelligent-cabin",
   "metadata": {},
   "source": [
    "## Entrnamiento y Evaluación de resultados"
   ]
  },
  {
   "cell_type": "markdown",
   "id": "pleased-bicycle",
   "metadata": {},
   "source": [
    "### Baseline"
   ]
  },
  {
   "cell_type": "code",
   "execution_count": 356,
   "id": "about-folder",
   "metadata": {},
   "outputs": [
    {
     "name": "stdout",
     "output_type": "stream",
     "text": [
      "Si no tuviera mas datos que valores anteriores para hacer una estimación yo diria que todo celular publicado tendrá un sold_quantity de: 5.0\n"
     ]
    }
   ],
   "source": [
    "print(f'Si no tuviera mas datos que valores anteriores para hacer una estimación yo '\\\n",
    "      f'diria que todo celular publicado tendrá un sold_quantity de: {y_train.median()}')"
   ]
  },
  {
   "cell_type": "code",
   "execution_count": 357,
   "id": "living-childhood",
   "metadata": {},
   "outputs": [
    {
     "name": "stdout",
     "output_type": "stream",
     "text": [
      "Mean Squared Error: 309605.53\n",
      "Root Mean Squared Error: 556.42\n"
     ]
    }
   ],
   "source": [
    "mse = mean_squared_error(y_test,\n",
    "                         np.full(\n",
    "                             y_test.shape[0],\n",
    "                             y_train.median()\n",
    "                         )\n",
    "                        )\n",
    "rmse = np.sqrt(mean_squared_error(y_test, np.full(y_test.shape[0],y_train.median())))\n",
    "print(f'Mean Squared Error: {mse:.2f}')\n",
    "print(f'Root Mean Squared Error: {rmse:.2f}')"
   ]
  },
  {
   "cell_type": "markdown",
   "id": "ahead-diary",
   "metadata": {},
   "source": [
    "### Linear Regression"
   ]
  },
  {
   "cell_type": "code",
   "execution_count": 411,
   "id": "manufactured-brush",
   "metadata": {},
   "outputs": [
    {
     "name": "stdout",
     "output_type": "stream",
     "text": [
      "Mean Squared Error: 484701.26\n",
      "Root Mean Squared Error: 696.20\n"
     ]
    }
   ],
   "source": [
    "lr = LinearRegression()\n",
    "pipe_lr = make_pipeline(column_trans, StandardScaler(), lr)\n",
    "pipe_lr.fit(x_train,y_train)\n",
    "mse = mean_squared_error(pipe_lr.predict(x_test), y_test)\n",
    "rmse = np.sqrt(mean_squared_error(pipe_lr.predict(x_test), y_test))\n",
    "print(f'Mean Squared Error: {mse:.2f}')\n",
    "print(f'Root Mean Squared Error: {rmse:.2f}')"
   ]
  },
  {
   "cell_type": "markdown",
   "id": "integral-shannon",
   "metadata": {},
   "source": [
    "A primera vista parece que el modelo performa incluso peor que la Baseline. Prosigamos con un modelo más robusto."
   ]
  },
  {
   "cell_type": "markdown",
   "id": "partial-titanium",
   "metadata": {},
   "source": [
    "### Random Forest \n",
    "\n",
    "Random Forest deberia ser una opción más robusta para la predicción. No es sensible a la colinearidad y no requiere la normalización de las features."
   ]
  },
  {
   "cell_type": "code",
   "execution_count": 412,
   "id": "wrong-supervisor",
   "metadata": {},
   "outputs": [
    {
     "name": "stdout",
     "output_type": "stream",
     "text": [
      "Root Mean Squared Error: 442.02(SD=420.84)\n"
     ]
    }
   ],
   "source": [
    "#Modelo\n",
    "rf_reg = RandomForestRegressor()\n",
    "#Pipeline\n",
    "pipe_rf = make_pipeline(column_trans, rf_reg)\n",
    "# CV para ver que tal performarían\n",
    "rmse_cv = abs(cross_val_score(pipe_rf, x_train, y_train, cv=20, scoring='neg_root_mean_squared_error'))\n",
    "print(f'Root Mean Squared Error: {rmse_cv.mean():.2f}(SD={rmse_cv.std():.2f})')"
   ]
  },
  {
   "cell_type": "markdown",
   "id": "bibliographic-former",
   "metadata": {},
   "source": [
    "Si bien el CV nos dice que el RMSE es menor al BaseLine y a la Regresión Lineal, podemos ver un gran SD. Esto es indicador de\n",
    "que nuestro modelo tiene demasiada variabilidad y la metrica observada no puede ser garantizada en producción. Veamos con el test set. "
   ]
  },
  {
   "cell_type": "code",
   "execution_count": 413,
   "id": "terminal-thriller",
   "metadata": {},
   "outputs": [
    {
     "name": "stdout",
     "output_type": "stream",
     "text": [
      "Mean Squared Error: 378195.78\n",
      "Root Mean Squared Error: 614.98\n"
     ]
    }
   ],
   "source": [
    "# Asumimos que entrenamos con todos nuestros datos. Y estamos listos para producción.\n",
    "pipe_rf.fit(x_train,y_train)\n",
    "# Metricas - Performance estimada frente a 'nuevos' casos.\n",
    "mse = mean_squared_error(y_test,pipe_rf.predict(x_test))\n",
    "rmse = np.sqrt(mean_squared_error(y_test,pipe_rf.predict(x_test)))\n",
    "print(f'Mean Squared Error: {mse:.2f}')\n",
    "print(f'Root Mean Squared Error: {rmse:.2f}')"
   ]
  },
  {
   "cell_type": "markdown",
   "id": "developmental-queue",
   "metadata": {},
   "source": [
    "Observamos nuevamente que el modelo al simular su puesta en producción no logra superar a nuestra Baseline. Evidentemente y como observamos más arriba, las variables que componen al modelo no son informativas, o al menos no suficientemente.\n",
    "\n",
    "Un problema puede ser que los modelos usados no logran encontrar una relación entre las multiples variables. Vamos a reducir nuestro numero de variable para ver si podemos mejorar nuestras predicciones."
   ]
  },
  {
   "cell_type": "code",
   "execution_count": 443,
   "id": "psychological-teach",
   "metadata": {},
   "outputs": [
    {
     "name": "stdout",
     "output_type": "stream",
     "text": [
      "Root Mean Squared Error: 516.20(SD=466.75)\n"
     ]
    }
   ],
   "source": [
    "# Preparando la data\n",
    "#Vamos a usar menos variables\n",
    "column_trans = make_column_transformer(\n",
    "    (OneHotEncoder(),\n",
    "     ['big_hub']),\n",
    "    (OrdinalEncoder(\n",
    "        categories=[\n",
    "                    ['used','new'],\n",
    "                    ['2_orange','3_yellow','3.5_sin_info','4_light_green','5_green']\n",
    "                   ]),\n",
    "     ['condition','seller_seller_reputation_level_id']),\n",
    "    remainder='passthrough'\n",
    ")\n",
    "y = df.sold_quantity\n",
    "X = df[['big_hub','condition','seller_seller_reputation_level_id']]\n",
    "column_trans.fit(X)\n",
    "x_train, x_test, y_train, y_test = train_test_split(X,y,random_state = 10)\n",
    "\n",
    "#Modelo\n",
    "rf_reg = RandomForestRegressor()\n",
    "#Pipeline\n",
    "pipe_rf = make_pipeline(column_trans, rf_reg)\n",
    "# CV para ver que tal performarían\n",
    "rmse_cv = abs(cross_val_score(pipe_rf, x_train, y_train, cv=20, scoring='neg_root_mean_squared_error'))\n",
    "print(f'Root Mean Squared Error: {rmse_cv.mean():.2f}(SD={rmse_cv.std():.2f})')"
   ]
  },
  {
   "cell_type": "markdown",
   "id": "reverse-missile",
   "metadata": {},
   "source": [
    "Vemos que la disminución de variables no mejoro el poder predictivo en comparación con el modeo de RF inicial. Es màs lo redujo e incremento su SD."
   ]
  },
  {
   "cell_type": "markdown",
   "id": "professional-shower",
   "metadata": {},
   "source": [
    "## Limitaciones"
   ]
  },
  {
   "cell_type": "markdown",
   "id": "decreased-shooting",
   "metadata": {},
   "source": [
    "No se pudo realizar un modelo que sea substancialmente mejor que la línea de base.\n",
    "\n",
    "Se podría realizar más pruebas como:\n",
    "- Tuneo de hiper parámetros\n",
    "- Selección de mas variables y aplicar algun feature selection method como SelectKBest\n",
    "- Probar otros modelos\n",
    "- Crear nuevas features con la información actual\n",
    "- Incrementas los datos"
   ]
  }
 ],
 "metadata": {
  "kernelspec": {
   "display_name": "Python 3",
   "language": "python",
   "name": "python3"
  },
  "language_info": {
   "codemirror_mode": {
    "name": "ipython",
    "version": 3
   },
   "file_extension": ".py",
   "mimetype": "text/x-python",
   "name": "python",
   "nbconvert_exporter": "python",
   "pygments_lexer": "ipython3",
   "version": "3.8.5"
  }
 },
 "nbformat": 4,
 "nbformat_minor": 5
}
